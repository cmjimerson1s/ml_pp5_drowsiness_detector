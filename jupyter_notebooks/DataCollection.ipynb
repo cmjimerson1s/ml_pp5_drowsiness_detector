{
  "cells": [
    {
      "cell_type": "markdown",
      "metadata": {
        "id": "0aStgWSO0E0E"
      },
      "source": [
        "# **Data Collection**"
      ]
    },
    {
      "cell_type": "markdown",
      "metadata": {
        "id": "1eLEkw5O0ECa"
      },
      "source": [
        "## Objectives\n",
        "\n",
        "* Write here your notebook objective, for example, \"Fetch data from Kaggle and save as raw data\", or \"engineer features for modelling\"\n",
        "\n",
        "## Inputs\n",
        "\n",
        "* Write here which data or information you need to run the notebook \n",
        "\n",
        "## Outputs\n",
        "\n",
        "* Write here which files, code or artefacts you generate by the end of the notebook \n",
        "\n",
        "## Additional Comments\n",
        "\n",
        "* In case you have any additional comments that don't fit in the previous bullets, please state them here. \n"
      ]
    },
    {
      "cell_type": "markdown",
      "metadata": {
        "id": "9uWZXH9LwoQg"
      },
      "source": [
        "---"
      ]
    },
    {
      "cell_type": "markdown",
      "metadata": {},
      "source": [
        "# Import Libraries"
      ]
    },
    {
      "cell_type": "code",
      "execution_count": 1,
      "metadata": {},
      "outputs": [],
      "source": [
        "import os\n",
        "import pandas as pd\n",
        "import numpy as np\n",
        "import matplotlib.pyplot as plt\n",
        "import seaborn as sns\n",
        "import joblib\n",
        "import tensorflow as tf\n",
        "sns.set_style(\"white\")\n",
        "from matplotlib.image import imread"
      ]
    },
    {
      "cell_type": "markdown",
      "metadata": {
        "id": "cqP-UeN-z3i2"
      },
      "source": [
        "# Change working directory"
      ]
    },
    {
      "cell_type": "code",
      "execution_count": 2,
      "metadata": {
        "id": "wZfF_j-Bz3i4",
        "outputId": "66943449-1436-4c3d-85c7-b85f9f78349b"
      },
      "outputs": [
        {
          "data": {
            "text/plain": [
              "'c:\\\\Users\\\\cmjim\\\\ml_pp5_drowsiness_detector\\\\jupyter_notebooks'"
            ]
          },
          "execution_count": 2,
          "metadata": {},
          "output_type": "execute_result"
        }
      ],
      "source": [
        "current_dir = os.getcwd()\n",
        "current_dir"
      ]
    },
    {
      "cell_type": "markdown",
      "metadata": {
        "id": "9MWW8E7lz3i7"
      },
      "source": [
        "* os.path.dirname() gets the parent directory\n",
        "* os.chir() defines the new current directory"
      ]
    },
    {
      "cell_type": "code",
      "execution_count": 3,
      "metadata": {
        "id": "TwHsQRWjz3i9",
        "outputId": "86849db3-cd2f-4cc5-ebb8-2d0caafa1a2c"
      },
      "outputs": [
        {
          "name": "stdout",
          "output_type": "stream",
          "text": [
            "You set a new current directory\n"
          ]
        }
      ],
      "source": [
        "os.chdir('C:\\\\Users\\\\cmjim\\\\ml_pp5_drowsiness_detector')\n",
        "print(\"You set a new current directory\")"
      ]
    },
    {
      "cell_type": "markdown",
      "metadata": {
        "id": "M_xPk_Ijz3i-"
      },
      "source": [
        "Confirm the new current directory"
      ]
    },
    {
      "cell_type": "code",
      "execution_count": 4,
      "metadata": {
        "id": "vz3S-_kjz3jA",
        "outputId": "00b79ae4-75d0-4a96-d193-ac9ef9847ea2"
      },
      "outputs": [
        {
          "data": {
            "text/plain": [
              "'C:\\\\Users\\\\cmjim\\\\ml_pp5_drowsiness_detector'"
            ]
          },
          "execution_count": 4,
          "metadata": {},
          "output_type": "execute_result"
        }
      ],
      "source": [
        "current_dir = os.getcwd()\n",
        "current_dir"
      ]
    },
    {
      "cell_type": "markdown",
      "metadata": {
        "id": "-mavJ8DibrcQ"
      },
      "source": [
        "#  Install Kaggle"
      ]
    },
    {
      "cell_type": "code",
      "execution_count": 6,
      "metadata": {},
      "outputs": [
        {
          "name": "stdout",
          "output_type": "stream",
          "text": [
            "Requirement already satisfied: kaggle in c:\\users\\cmjim\\appdata\\local\\programs\\python\\python311\\lib\\site-packages (1.5.16)\n",
            "Requirement already satisfied: six>=1.10 in c:\\users\\cmjim\\appdata\\local\\programs\\python\\python311\\lib\\site-packages (from kaggle) (1.16.0)\n",
            "Requirement already satisfied: certifi in c:\\users\\cmjim\\appdata\\local\\programs\\python\\python311\\lib\\site-packages (from kaggle) (2023.5.7)\n",
            "Requirement already satisfied: python-dateutil in c:\\users\\cmjim\\appdata\\local\\programs\\python\\python311\\lib\\site-packages (from kaggle) (2.8.2)\n",
            "Requirement already satisfied: requests in c:\\users\\cmjim\\appdata\\local\\programs\\python\\python311\\lib\\site-packages (from kaggle) (2.31.0)\n",
            "Requirement already satisfied: tqdm in c:\\users\\cmjim\\appdata\\local\\programs\\python\\python311\\lib\\site-packages (from kaggle) (4.65.0)\n",
            "Requirement already satisfied: python-slugify in c:\\users\\cmjim\\appdata\\local\\programs\\python\\python311\\lib\\site-packages (from kaggle) (8.0.1)\n",
            "Requirement already satisfied: urllib3 in c:\\users\\cmjim\\appdata\\local\\programs\\python\\python311\\lib\\site-packages (from kaggle) (1.26.16)\n",
            "Requirement already satisfied: bleach in c:\\users\\cmjim\\appdata\\local\\programs\\python\\python311\\lib\\site-packages (from kaggle) (6.0.0)\n",
            "Requirement already satisfied: webencodings in c:\\users\\cmjim\\appdata\\local\\programs\\python\\python311\\lib\\site-packages (from bleach->kaggle) (0.5.1)\n",
            "Requirement already satisfied: text-unidecode>=1.3 in c:\\users\\cmjim\\appdata\\local\\programs\\python\\python311\\lib\\site-packages (from python-slugify->kaggle) (1.3)\n",
            "Requirement already satisfied: charset-normalizer<4,>=2 in c:\\users\\cmjim\\appdata\\local\\programs\\python\\python311\\lib\\site-packages (from requests->kaggle) (3.2.0)\n",
            "Requirement already satisfied: idna<4,>=2.5 in c:\\users\\cmjim\\appdata\\local\\programs\\python\\python311\\lib\\site-packages (from requests->kaggle) (3.4)\n",
            "Requirement already satisfied: colorama in c:\\users\\cmjim\\appdata\\local\\programs\\python\\python311\\lib\\site-packages (from tqdm->kaggle) (0.4.6)\n",
            "Note: you may need to restart the kernel to use updated packages.\n"
          ]
        }
      ],
      "source": [
        "pip install kaggle"
      ]
    },
    {
      "cell_type": "markdown",
      "metadata": {},
      "source": [
        "Change the Kaggle configuration directory to the current working directory and set permissions for the Kaggle authentication JSON"
      ]
    },
    {
      "cell_type": "code",
      "execution_count": 7,
      "metadata": {},
      "outputs": [],
      "source": [
        "os.environ['KAGGLE_CONFIG_DIR'] = os.getcwd()\n",
        "! chmod 600 kaggle.json"
      ]
    },
    {
      "cell_type": "markdown",
      "metadata": {},
      "source": [
        "Collect Kaggle Dataset link, and download dataset"
      ]
    },
    {
      "cell_type": "code",
      "execution_count": 8,
      "metadata": {},
      "outputs": [
        {
          "name": "stdout",
          "output_type": "stream",
          "text": [
            "Downloading openned-closed-eyes.zip to inputs/drowsiness\n",
            "\n"
          ]
        },
        {
          "name": "stderr",
          "output_type": "stream",
          "text": [
            "\n",
            "  0%|          | 0.00/526M [00:00<?, ?B/s]\n",
            "  0%|          | 1.00M/526M [00:00<05:36, 1.64MB/s]\n",
            "  1%|          | 3.00M/526M [00:00<01:55, 4.75MB/s]\n",
            "  1%|▏         | 7.00M/526M [00:00<00:47, 11.5MB/s]\n",
            "  2%|▏         | 9.00M/526M [00:01<00:44, 12.2MB/s]\n",
            "  2%|▏         | 12.0M/526M [00:01<00:47, 11.3MB/s]\n",
            "  3%|▎         | 14.0M/526M [00:01<00:45, 11.8MB/s]\n",
            "  3%|▎         | 18.0M/526M [00:01<00:35, 15.0MB/s]\n",
            "  4%|▍         | 21.0M/526M [00:01<00:32, 16.2MB/s]\n",
            "  5%|▍         | 25.0M/526M [00:02<00:29, 18.0MB/s]\n",
            "  5%|▌         | 28.0M/526M [00:02<00:25, 20.2MB/s]\n",
            "  6%|▌         | 31.0M/526M [00:02<00:25, 20.3MB/s]\n",
            "  7%|▋         | 35.0M/526M [00:02<00:24, 21.0MB/s]\n",
            "  7%|▋         | 38.0M/526M [00:02<00:28, 18.1MB/s]\n",
            "  8%|▊         | 42.0M/526M [00:02<00:24, 21.1MB/s]\n",
            "  9%|▊         | 45.0M/526M [00:03<00:25, 19.6MB/s]\n",
            " 10%|▉         | 50.0M/526M [00:03<00:20, 24.8MB/s]\n",
            " 10%|█         | 54.0M/526M [00:03<00:17, 27.5MB/s]\n",
            " 11%|█         | 58.0M/526M [00:03<00:17, 28.7MB/s]\n",
            " 12%|█▏        | 61.0M/526M [00:03<00:20, 24.3MB/s]\n",
            " 12%|█▏        | 65.0M/526M [00:03<00:17, 27.7MB/s]\n",
            " 13%|█▎        | 68.0M/526M [00:03<00:18, 25.9MB/s]\n",
            " 14%|█▎        | 72.0M/526M [00:03<00:16, 29.4MB/s]\n",
            " 14%|█▍        | 76.0M/526M [00:04<00:15, 30.1MB/s]\n",
            " 15%|█▌        | 80.0M/526M [00:04<00:14, 32.4MB/s]\n",
            " 16%|█▌        | 84.0M/526M [00:04<00:20, 22.9MB/s]\n",
            " 17%|█▋        | 88.0M/526M [00:04<00:17, 25.9MB/s]\n",
            " 18%|█▊        | 93.0M/526M [00:04<00:15, 28.9MB/s]\n",
            " 18%|█▊        | 97.0M/526M [00:04<00:14, 31.7MB/s]\n",
            " 19%|█▉        | 101M/526M [00:05<00:25, 17.2MB/s] \n",
            " 20%|█▉        | 105M/526M [00:05<00:22, 19.8MB/s]\n",
            " 21%|██        | 108M/526M [00:05<00:22, 19.2MB/s]\n",
            " 21%|██▏       | 113M/526M [00:05<00:17, 24.8MB/s]\n",
            " 22%|██▏       | 117M/526M [00:06<00:30, 14.1MB/s]\n",
            " 23%|██▎       | 121M/526M [00:06<00:24, 17.3MB/s]\n",
            " 24%|██▎       | 124M/526M [00:06<00:24, 17.0MB/s]\n",
            " 24%|██▍       | 128M/526M [00:06<00:20, 20.5MB/s]\n",
            " 25%|██▍       | 131M/526M [00:07<00:22, 18.8MB/s]\n",
            " 26%|██▌       | 135M/526M [00:07<00:18, 22.7MB/s]\n",
            " 26%|██▌       | 138M/526M [00:07<00:33, 12.2MB/s]\n",
            " 27%|██▋       | 143M/526M [00:07<00:23, 16.9MB/s]\n",
            " 28%|██▊       | 147M/526M [00:07<00:19, 20.3MB/s]\n",
            " 29%|██▊       | 151M/526M [00:08<00:16, 23.9MB/s]\n",
            " 29%|██▉       | 155M/526M [00:08<00:22, 17.5MB/s]\n",
            " 30%|███       | 159M/526M [00:08<00:18, 20.9MB/s]\n",
            " 31%|███       | 162M/526M [00:08<00:20, 18.6MB/s]\n",
            " 32%|███▏      | 167M/526M [00:08<00:16, 23.5MB/s]\n",
            " 32%|███▏      | 170M/526M [00:09<00:19, 19.4MB/s]\n",
            " 33%|███▎      | 174M/526M [00:09<00:15, 23.2MB/s]\n",
            " 34%|███▍      | 178M/526M [00:09<00:26, 14.0MB/s]\n",
            " 35%|███▍      | 182M/526M [00:09<00:20, 17.6MB/s]\n",
            " 35%|███▌      | 186M/526M [00:10<00:17, 19.9MB/s]\n",
            " 36%|███▋      | 191M/526M [00:10<00:14, 24.7MB/s]\n",
            " 37%|███▋      | 195M/526M [00:10<00:18, 18.5MB/s]\n",
            " 38%|███▊      | 200M/526M [00:10<00:14, 23.2MB/s]\n",
            " 39%|███▉      | 204M/526M [00:10<00:14, 23.5MB/s]\n",
            " 40%|███▉      | 208M/526M [00:10<00:12, 26.7MB/s]\n",
            " 40%|████      | 212M/526M [00:11<00:14, 22.0MB/s]\n",
            " 41%|████      | 217M/526M [00:11<00:12, 25.2MB/s]\n",
            " 42%|████▏     | 220M/526M [00:11<00:15, 20.7MB/s]\n",
            " 43%|████▎     | 224M/526M [00:11<00:13, 24.2MB/s]\n",
            " 43%|████▎     | 227M/526M [00:11<00:12, 24.2MB/s]\n",
            " 44%|████▎     | 230M/526M [00:12<00:13, 23.4MB/s]\n",
            " 44%|████▍     | 233M/526M [00:12<00:15, 19.3MB/s]\n",
            " 45%|████▌     | 237M/526M [00:12<00:12, 23.6MB/s]\n",
            " 46%|████▌     | 241M/526M [00:12<00:12, 24.2MB/s]\n",
            " 47%|████▋     | 245M/526M [00:12<00:10, 27.7MB/s]\n",
            " 47%|████▋     | 249M/526M [00:12<00:12, 23.8MB/s]\n",
            " 48%|████▊     | 253M/526M [00:12<00:10, 27.4MB/s]\n",
            " 49%|████▉     | 257M/526M [00:13<00:10, 26.2MB/s]\n",
            " 50%|████▉     | 261M/526M [00:13<00:09, 29.5MB/s]\n",
            " 50%|█████     | 265M/526M [00:13<00:10, 26.3MB/s]\n",
            " 51%|█████▏    | 270M/526M [00:13<00:08, 30.7MB/s]\n",
            " 52%|█████▏    | 274M/526M [00:13<00:10, 25.3MB/s]\n",
            " 53%|█████▎    | 279M/526M [00:13<00:08, 29.6MB/s]\n",
            " 54%|█████▍    | 283M/526M [00:14<00:09, 27.7MB/s]\n",
            " 55%|█████▍    | 287M/526M [00:14<00:08, 30.6MB/s]\n",
            " 55%|█████▌    | 291M/526M [00:14<00:10, 24.6MB/s]\n",
            " 56%|█████▌    | 295M/526M [00:14<00:08, 27.6MB/s]\n",
            " 57%|█████▋    | 299M/526M [00:14<00:08, 28.3MB/s]\n",
            " 58%|█████▊    | 303M/526M [00:14<00:07, 31.1MB/s]\n",
            " 58%|█████▊    | 307M/526M [00:14<00:07, 29.9MB/s]\n",
            " 59%|█████▉    | 312M/526M [00:15<00:06, 33.9MB/s]\n",
            " 60%|██████    | 316M/526M [00:15<00:09, 24.1MB/s]\n",
            " 61%|██████    | 321M/526M [00:15<00:09, 22.0MB/s]\n",
            " 62%|██████▏   | 325M/526M [00:15<00:08, 25.1MB/s]\n",
            " 63%|██████▎   | 329M/526M [00:15<00:08, 25.1MB/s]\n",
            " 63%|██████▎   | 333M/526M [00:16<00:07, 28.2MB/s]\n",
            " 64%|██████▍   | 337M/526M [00:16<00:10, 19.0MB/s]\n",
            " 65%|██████▍   | 342M/526M [00:16<00:08, 23.7MB/s]\n",
            " 66%|██████▌   | 346M/526M [00:16<00:07, 24.3MB/s]\n",
            " 67%|██████▋   | 350M/526M [00:16<00:06, 27.2MB/s]\n",
            " 67%|██████▋   | 354M/526M [00:16<00:06, 28.3MB/s]\n",
            " 68%|██████▊   | 358M/526M [00:17<00:05, 31.3MB/s]\n",
            " 69%|██████▉   | 362M/526M [00:17<00:05, 30.9MB/s]\n",
            " 70%|██████▉   | 366M/526M [00:17<00:05, 33.3MB/s]\n",
            " 70%|███████   | 370M/526M [00:17<00:04, 35.2MB/s]\n",
            " 71%|███████   | 374M/526M [00:17<00:04, 36.9MB/s]\n",
            " 72%|███████▏  | 378M/526M [00:17<00:04, 33.4MB/s]\n",
            " 73%|███████▎  | 382M/526M [00:17<00:04, 35.4MB/s]\n",
            " 73%|███████▎  | 386M/526M [00:17<00:05, 28.8MB/s]\n",
            " 74%|███████▍  | 390M/526M [00:18<00:04, 31.7MB/s]\n",
            " 75%|███████▍  | 394M/526M [00:18<00:05, 26.9MB/s]\n",
            " 76%|███████▌  | 398M/526M [00:18<00:04, 29.9MB/s]\n",
            " 76%|███████▋  | 402M/526M [00:18<00:03, 32.7MB/s]\n",
            " 77%|███████▋  | 406M/526M [00:18<00:03, 34.8MB/s]\n",
            " 78%|███████▊  | 410M/526M [00:18<00:06, 20.0MB/s]\n",
            " 79%|███████▉  | 415M/526M [00:19<00:04, 24.7MB/s]\n",
            " 80%|███████▉  | 419M/526M [00:19<00:04, 25.7MB/s]\n",
            " 80%|████████  | 423M/526M [00:19<00:03, 27.5MB/s]\n",
            " 81%|████████  | 427M/526M [00:19<00:03, 28.1MB/s]\n",
            " 82%|████████▏ | 432M/526M [00:19<00:03, 32.6MB/s]\n",
            " 83%|████████▎ | 436M/526M [00:19<00:04, 22.6MB/s]\n",
            " 84%|████████▍ | 441M/526M [00:20<00:03, 26.8MB/s]\n",
            " 85%|████████▍ | 445M/526M [00:20<00:03, 25.8MB/s]\n",
            " 86%|████████▌ | 450M/526M [00:20<00:03, 23.8MB/s]\n",
            " 86%|████████▋ | 454M/526M [00:20<00:02, 27.0MB/s]\n",
            " 87%|████████▋ | 458M/526M [00:20<00:02, 28.9MB/s]\n",
            " 88%|████████▊ | 462M/526M [00:20<00:02, 31.7MB/s]\n",
            " 89%|████████▊ | 466M/526M [00:21<00:02, 25.6MB/s]\n",
            " 89%|████████▉ | 470M/526M [00:21<00:02, 28.9MB/s]\n",
            " 90%|█████████ | 474M/526M [00:21<00:02, 25.9MB/s]\n",
            " 91%|█████████ | 478M/526M [00:21<00:01, 29.1MB/s]\n",
            " 92%|█████████▏| 482M/526M [00:21<00:01, 25.1MB/s]\n",
            " 92%|█████████▏| 486M/526M [00:21<00:01, 28.2MB/s]\n",
            " 93%|█████████▎| 490M/526M [00:22<00:01, 20.3MB/s]\n",
            " 94%|█████████▍| 494M/526M [00:22<00:01, 23.8MB/s]\n",
            " 95%|█████████▍| 498M/526M [00:22<00:01, 20.5MB/s]\n",
            " 95%|█████████▌| 501M/526M [00:22<00:01, 22.1MB/s]\n",
            " 96%|█████████▌| 504M/526M [00:22<00:01, 23.0MB/s]\n",
            " 96%|█████████▋| 507M/526M [00:22<00:00, 22.3MB/s]\n",
            " 97%|█████████▋| 511M/526M [00:23<00:00, 26.3MB/s]\n",
            " 98%|█████████▊| 514M/526M [00:23<00:01, 12.2MB/s]\n",
            " 98%|█████████▊| 518M/526M [00:23<00:00, 16.1MB/s]\n",
            " 99%|█████████▉| 521M/526M [00:23<00:00, 16.3MB/s]\n",
            "100%|█████████▉| 525M/526M [00:24<00:00, 20.4MB/s]\n",
            "100%|██████████| 526M/526M [00:24<00:00, 22.9MB/s]\n"
          ]
        }
      ],
      "source": [
        "KaggleDataset = \"hazemfahmy/openned-closed-eyes\"\n",
        "DestinationFolder = \"inputs/drowsiness\"\n",
        "! kaggle datasets download -d {KaggleDataset} -p {DestinationFolder}"
      ]
    },
    {
      "cell_type": "markdown",
      "metadata": {},
      "source": [
        "Unzip the dowloaded file and delete the zip file"
      ]
    },
    {
      "cell_type": "code",
      "execution_count": 9,
      "metadata": {},
      "outputs": [],
      "source": [
        "import zipfile\n",
        "with zipfile.ZipFile(DestinationFolder + '/openned-closed-eyes.zip', 'r') as zip_ref:\n",
        "    zip_ref.extractall(DestinationFolder)\n",
        "\n",
        "os.remove(DestinationFolder + '/openned-closed-eyes.zip')"
      ]
    },
    {
      "cell_type": "markdown",
      "metadata": {
        "id": "ZY3l0-AxO93d"
      },
      "source": [
        "---"
      ]
    },
    {
      "cell_type": "markdown",
      "metadata": {
        "id": "uFQo3ycuO-v6"
      },
      "source": [
        "# Data Preparation"
      ]
    },
    {
      "cell_type": "markdown",
      "metadata": {},
      "source": [
        "---"
      ]
    },
    {
      "cell_type": "markdown",
      "metadata": {},
      "source": [
        "For cleaning up the data we will create two folders, one for images of open eyes and one for closed eyes. Then we will iterate through all the folders to collect the files from any folder called \"Awake\" or \"Drowsy\". Finally deleteing any files that are not needed or any empty file paths. "
      ]
    },
    {
      "cell_type": "code",
      "execution_count": 10,
      "metadata": {},
      "outputs": [],
      "source": [
        "import shutil"
      ]
    },
    {
      "cell_type": "code",
      "execution_count": 11,
      "metadata": {},
      "outputs": [],
      "source": [
        "def move_open_folders_to_open(source_dir, destination_dir, folder_to_move='Opened', destination_folder='Awake'):\n",
        "    open_folder_path = os.path.join(destination_dir, destination_folder)\n",
        "    os.makedirs(open_folder_path, exist_ok=True)\n",
        "\n",
        "    for root, dirs, files in os.walk(source_dir):\n",
        "        if os.path.basename(root) == folder_to_move:\n",
        "            for file in files:\n",
        "                file_path = os.path.join(root, file)\n",
        "                shutil.move(file_path, os.path.join(open_folder_path, file))\n",
        "\n",
        "source_directory_path = 'inputs/drowsiness'\n",
        "destination_directory_path = 'inputs/drowsiness'\n",
        "\n",
        "move_open_folders_to_open(source_directory_path, destination_directory_path)"
      ]
    },
    {
      "cell_type": "code",
      "execution_count": 12,
      "metadata": {},
      "outputs": [],
      "source": [
        "def move_close_folders_to_close(source_dir, destination_dir, folder_to_move='Closed', destination_folder='Drowsy'):\n",
        "    close_folder_path = os.path.join(destination_dir, destination_folder)\n",
        "    os.makedirs(close_folder_path, exist_ok=True)\n",
        "\n",
        "    for root, dirs, files in os.walk(source_dir):\n",
        "        if os.path.basename(root) == folder_to_move:\n",
        "            for file in files:\n",
        "                file_path = os.path.join(root, file)\n",
        "                shutil.move(file_path, os.path.join(close_folder_path, file))\n",
        "\n",
        "source_directory_path = 'inputs/drowsiness'\n",
        "destination_directory_path = 'inputs/drowsiness'\n",
        "\n",
        "move_close_folders_to_close(source_directory_path, destination_directory_path)"
      ]
    },
    {
      "cell_type": "code",
      "execution_count": 13,
      "metadata": {},
      "outputs": [],
      "source": [
        "def delete_files_with_extension(directory, file_extension):\n",
        "    for root, _, files in os.walk(directory):\n",
        "        for file in files:\n",
        "            if file.endswith(file_extension):\n",
        "                pass\n",
        "            else:\n",
        "                file_path = os.path.join(root, file)\n",
        "                os.remove(file_path)\n",
        "\n",
        "directory_path = 'inputs/drowsiness'\n",
        "file_extension_to_save = '.jpg'\n",
        "\n",
        "delete_files_with_extension(directory_path, file_extension_to_save)"
      ]
    },
    {
      "cell_type": "code",
      "execution_count": 14,
      "metadata": {},
      "outputs": [],
      "source": [
        "def delete_empty_folders(directory):\n",
        "    for root, dirs, files in os.walk(directory, topdown=False):\n",
        "        for dir_name in dirs:\n",
        "            folder_path = os.path.join(root, dir_name)\n",
        "            if not os.listdir(folder_path):\n",
        "                # If the folder is empty, delete it\n",
        "                os.rmdir(folder_path)\n",
        "\n",
        "directory_path = r'inputs\\drowsiness'\n",
        "delete_empty_folders(directory_path)"
      ]
    },
    {
      "cell_type": "markdown",
      "metadata": {},
      "source": [
        "---"
      ]
    },
    {
      "cell_type": "markdown",
      "metadata": {},
      "source": [
        "## Data Cleaning"
      ]
    },
    {
      "cell_type": "markdown",
      "metadata": {},
      "source": [
        "Checks for and removes non-image files in the input folders by checking filename extensions match accepted image formats"
      ]
    },
    {
      "cell_type": "code",
      "execution_count": 15,
      "metadata": {},
      "outputs": [],
      "source": [
        "def remove_non_image_file(my_data_dir):\n",
        "    image_extension = ('.png', '.jpg', '.jpeg')\n",
        "    folders = os.listdir(my_data_dir)\n",
        "    for folder in folders:\n",
        "        files = os.listdir(my_data_dir + '/' + folder)\n",
        "        # print(files)\n",
        "        i = []\n",
        "        j = []\n",
        "        for given_file in files:\n",
        "            if not given_file.lower().endswith(image_extension):\n",
        "                file_location = my_data_dir + '/' + folder + '/' + given_file\n",
        "                os.remove(file_location)\n",
        "                i.append(1)\n",
        "            else:\n",
        "                j.append(1)\n",
        "                pass\n",
        "        print(f\"Folder: {folder} - has image file\", len(j))\n",
        "        print(f\"Folder: {folder} - has non-image file\", len(i))"
      ]
    },
    {
      "cell_type": "code",
      "execution_count": 16,
      "metadata": {},
      "outputs": [
        {
          "name": "stdout",
          "output_type": "stream",
          "text": [
            "Folder: Awake - has image file 4933\n",
            "Folder: Awake - has non-image file 0\n",
            "Folder: Drowsy - has image file 4936\n",
            "Folder: Drowsy - has non-image file 0\n"
          ]
        }
      ],
      "source": [
        "remove_non_image_file(r'inputs\\drowsiness')\n",
        "#I have to use the r in front of the file path due to an unicodeescape error otherwise"
      ]
    },
    {
      "cell_type": "markdown",
      "metadata": {},
      "source": [
        "---"
      ]
    },
    {
      "cell_type": "markdown",
      "metadata": {
        "id": "ltNetd085qHf"
      },
      "source": [
        "## Split Dataset into Train, Validation, and Test sets"
      ]
    },
    {
      "cell_type": "code",
      "execution_count": 17,
      "metadata": {
        "id": "aKlnIozA4eQO",
        "outputId": "fd09bc1f-adb1-4511-f6ce-492a6af570c0"
      },
      "outputs": [],
      "source": [
        "import os\n",
        "import shutil\n",
        "import random\n",
        "import joblib\n",
        "\n",
        "\n",
        "def split_train_validation_test_images(my_data_dir, train_set_ratio, validation_set_ratio, test_set_ratio):\n",
        "\n",
        "    if train_set_ratio + validation_set_ratio + test_set_ratio != 1.0:\n",
        "        print(\"train_set_ratio + validation_set_ratio + test_set_ratio should sum to 1.0\")\n",
        "        return\n",
        "\n",
        "    # gets classes labels\n",
        "    labels = os.listdir(my_data_dir)  # it should get only the folder name\n",
        "    if 'test' in labels:\n",
        "        pass\n",
        "    else:\n",
        "        # create train, test folders with classes labels sub-folder\n",
        "        for folder in ['train', 'validation', 'test']:\n",
        "            for label in labels:\n",
        "                os.makedirs(name=my_data_dir + '/' + folder + '/' + label)\n",
        "\n",
        "        for label in labels:\n",
        "\n",
        "            files = os.listdir(my_data_dir + '/' + label)\n",
        "            random.shuffle(files)\n",
        "\n",
        "            train_set_files_qty = int(len(files) * train_set_ratio)\n",
        "            validation_set_files_qty = int(len(files) * validation_set_ratio)\n",
        "\n",
        "            count = 1\n",
        "            for file_name in files:\n",
        "                if count <= train_set_files_qty:\n",
        "                    # move a given file to the train set\n",
        "                    shutil.move(my_data_dir + '/' + label + '/' + file_name,\n",
        "                                my_data_dir + '/train/' + label + '/' + file_name)\n",
        "\n",
        "                elif count <= (train_set_files_qty + validation_set_files_qty):\n",
        "                    # move a given file to the validation set\n",
        "                    shutil.move(my_data_dir + '/' + label + '/' + file_name,\n",
        "                                my_data_dir + '/validation/' + label + '/' + file_name)\n",
        "\n",
        "                else:\n",
        "                    # move given file to test set\n",
        "                    shutil.move(my_data_dir + '/' + label + '/' + file_name,\n",
        "                                my_data_dir + '/test/' + label + '/' + file_name)\n",
        "\n",
        "                count += 1\n",
        "\n",
        "            os.rmdir(my_data_dir + '/' + label)"
      ]
    },
    {
      "cell_type": "markdown",
      "metadata": {},
      "source": [
        "* The training set is divided into a 0.70 ratio of data.\n",
        "* The validation set is divided into a 0.10 ratio of data.\n",
        "* The test set is divided into a 0.20 ratio of data."
      ]
    },
    {
      "cell_type": "code",
      "execution_count": 18,
      "metadata": {},
      "outputs": [],
      "source": [
        "split_train_validation_test_images(my_data_dir=r\"inputs\\drowsiness\",\n",
        "                                   train_set_ratio=0.7,\n",
        "                                   validation_set_ratio=0.1,\n",
        "                                   test_set_ratio=0.2\n",
        "                                   )"
      ]
    }
  ],
  "metadata": {
    "accelerator": "GPU",
    "colab": {
      "name": "Data Practitioner Jupyter Notebook.ipynb",
      "provenance": [],
      "toc_visible": true
    },
    "interpreter": {
      "hash": "8b8334dab9339717f727a1deaf837b322d7a41c20d15cc86be99a8e69ceec8ce"
    },
    "kernelspec": {
      "display_name": "Python 3.8.12 64-bit ('3.8.12': pyenv)",
      "name": "python3"
    },
    "language_info": {
      "codemirror_mode": {
        "name": "ipython",
        "version": 3
      },
      "file_extension": ".py",
      "mimetype": "text/x-python",
      "name": "python",
      "nbconvert_exporter": "python",
      "pygments_lexer": "ipython3",
      "version": "3.11.4"
    },
    "orig_nbformat": 2
  },
  "nbformat": 4,
  "nbformat_minor": 2
}
